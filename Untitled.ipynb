{
 "cells": [
  {
   "cell_type": "code",
   "execution_count": 1,
   "id": "88cb189b",
   "metadata": {},
   "outputs": [
    {
     "ename": "NameError",
     "evalue": "name 'filedialog' is not defined",
     "output_type": "error",
     "traceback": [
      "\u001b[1;31m---------------------------------------------------------------------------\u001b[0m",
      "\u001b[1;31mNameError\u001b[0m                                 Traceback (most recent call last)",
      "\u001b[1;32m~\\AppData\\Local\\Temp\\ipykernel_36220\\2540910274.py\u001b[0m in \u001b[0;36m<module>\u001b[1;34m\u001b[0m\n\u001b[0;32m      1\u001b[0m \u001b[1;32mfrom\u001b[0m \u001b[0mtkinter\u001b[0m \u001b[1;32mimport\u001b[0m \u001b[1;33m*\u001b[0m\u001b[1;33m\u001b[0m\u001b[1;33m\u001b[0m\u001b[0m\n\u001b[0;32m      2\u001b[0m \u001b[0ma\u001b[0m\u001b[1;33m=\u001b[0m\u001b[0mTk\u001b[0m\u001b[1;33m\u001b[0m\u001b[1;33m\u001b[0m\u001b[0m\n\u001b[1;32m----> 3\u001b[1;33m \u001b[0mfile1\u001b[0m \u001b[1;33m=\u001b[0m \u001b[0mfiledialog\u001b[0m\u001b[1;33m.\u001b[0m\u001b[0maskopenfile\u001b[0m\u001b[1;33m(\u001b[0m\u001b[1;33m)\u001b[0m\u001b[1;33m\u001b[0m\u001b[1;33m\u001b[0m\u001b[0m\n\u001b[0m",
      "\u001b[1;31mNameError\u001b[0m: name 'filedialog' is not defined"
     ]
    }
   ],
   "source": [
    "from tkinter import *\n",
    "a=Tk\n",
    "file1 = filedialog.askopenfile()"
   ]
  },
  {
   "cell_type": "code",
   "execution_count": 2,
   "id": "06fbba73",
   "metadata": {},
   "outputs": [
    {
     "name": "stdout",
     "output_type": "stream",
     "text": [
      "C:/Users/vihaa/PycharmProjects/File_encrypter/target.txt\n"
     ]
    }
   ],
   "source": [
    "from tkinter import filedialog\n",
    "fileopen = filedialog.askopenfilename(initialdir=\"C://EncryptFiles//LockFolder\", title=\"Select file to encrypt or decrypt\", filetypes=((\"Text Documents\", \"*.txt\"),(\"All Files\", \"*.*\")))\n",
    "print(fileopen)"
   ]
  },
  {
   "cell_type": "code",
   "execution_count": 1,
   "id": "2a1ebd6e",
   "metadata": {},
   "outputs": [
    {
     "name": "stdout",
     "output_type": "stream",
     "text": [
      "C:/Users/vihaa/PycharmProjects/File_encrypter/target.txt\n"
     ]
    }
   ],
   "source": [
    "from tkinter import filedialog\n",
    "fileopen = filedialog.askopenfilename(initialdir=\"C://EncryptFiles//LockFolder\", title=\"Select file to encrypt or decrypt\", filetypes=((\"Text Documents\", \"*.txt\"),(\"All Files\", \"*.*\")))\n",
    "print(fileopen)"
   ]
  },
  {
   "cell_type": "code",
   "execution_count": 1,
   "id": "aa01e741",
   "metadata": {},
   "outputs": [
    {
     "name": "stdout",
     "output_type": "stream",
     "text": [
      "encfile\n"
     ]
    }
   ],
   "source": [
    "with open(\"C:/Users/vihaa/PycharmProjects/File_encrypter/target.txt\", \"r\") as re:\n",
    "    print(re.read())    "
   ]
  },
  {
   "cell_type": "code",
   "execution_count": null,
   "id": "7891aea8",
   "metadata": {},
   "outputs": [],
   "source": []
  }
 ],
 "metadata": {
  "kernelspec": {
   "display_name": "Python 3 (ipykernel)",
   "language": "python",
   "name": "python3"
  },
  "language_info": {
   "codemirror_mode": {
    "name": "ipython",
    "version": 3
   },
   "file_extension": ".py",
   "mimetype": "text/x-python",
   "name": "python",
   "nbconvert_exporter": "python",
   "pygments_lexer": "ipython3",
   "version": "3.9.13"
  }
 },
 "nbformat": 4,
 "nbformat_minor": 5
}
